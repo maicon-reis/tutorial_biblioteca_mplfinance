{
 "metadata": {
  "orig_nbformat": 2,
  "kernelspec": {
   "name": "python3",
   "display_name": "Python 3",
   "language": "python"
  }
 },
 "nbformat": 4,
 "nbformat_minor": 2,
 "cells": [
  {
   "cell_type": "code",
   "execution_count": 1,
   "metadata": {},
   "outputs": [],
   "source": [
    "# bibliotecas\n",
    "import pandas as pd\n",
    "import numpy as np\n",
    "from pandas_datareader import data as pdr\n",
    "from datetime import date\n",
    "import joblib"
   ]
  },
  {
   "cell_type": "code",
   "execution_count": 2,
   "metadata": {},
   "outputs": [],
   "source": [
    "# cria função para configurar colunas de bb\n",
    "def cria_bb( ticker, inicio, fim ):\n",
    "    # coleta de dados\n",
    "    data = pdr.get_data_yahoo( ticker, start= inicio, end=fim )\n",
    "\n",
    "    # criando uma coluna contentdo média móvel com 20 períodos\n",
    "    data.loc[ :, \"MM\" ] = data[ 'Adj Close' ].rolling( 20 ).mean()\n",
    "\n",
    "    # criando uma coluna contendo os desvios de 20 períodos\n",
    "    data.loc[ :, \"desvio\" ] = data[ 'Adj Close' ].rolling( 20 ).std()\n",
    "\n",
    "    # cria colunas contedos valores da banda superior e banda inferior\n",
    "    data.loc[ :, \"Banda_sup\" ] = data.MM + ( data.desvio * 2 )\n",
    "    data.loc[ :, \"Banda_inf\" ] = data.MM - ( data.desvio * 2 )\n",
    "\n",
    "    # excluindo linhas faltantes\n",
    "    data.dropna(inplace=True)\n",
    "\n",
    "    # criando valores para sinal inferior e superior\n",
    "    data.loc[ :, \"Sinal_inf\" ] = np.where(\n",
    "        ( data.loc[ :, \"Close\" ] < data.loc[ :, \"Banda_inf\" ] ), data.loc[ :, \"Close\" ] * 0.99, np.nan\n",
    "    )\n",
    "    data.loc[:, \"Sinal_sup\"] = np.where(\n",
    "        ( data.loc[ :, \"Close\" ] > data.loc[ :, \"Banda_sup\" ] ), data.loc[ :, \"Close\" ] * 1.01, np.nan\n",
    "    )\n",
    "\n",
    "    # persistindo em disco com joblib\n",
    "    joblib.dump( data, \"data_amzn\" )\n",
    "    \n",
    "    return data.head()"
   ]
  },
  {
   "cell_type": "code",
   "execution_count": 3,
   "metadata": {},
   "outputs": [
    {
     "output_type": "execute_result",
     "data": {
      "text/plain": [
       "                  High         Low        Open       Close    Volume  \\\n",
       "Date                                                                   \n",
       "2015-01-30  359.500000  340.739990  346.320007  354.529999  23856100   \n",
       "2015-02-02  365.000000  350.010010  350.049988  364.470001  10231900   \n",
       "2015-02-03  367.820007  360.209991  360.290009  363.549988   6212600   \n",
       "2015-02-04  367.500000  358.230011  358.380005  364.750000   4169900   \n",
       "2015-02-05  378.799988  365.899994  366.000000  373.890015   7247600   \n",
       "\n",
       "             Adj Close          MM     desvio   Banda_sup   Banda_inf  \\\n",
       "Date                                                                    \n",
       "2015-01-30  354.529999  302.747501  14.525972  331.799444  273.695557   \n",
       "2015-02-02  364.470001  305.545001  20.037988  345.620978  265.469025   \n",
       "2015-02-03  363.549988  308.613000  23.834924  356.282849  260.943152   \n",
       "2015-02-04  364.750000  312.086000  26.681942  365.449884  258.722116   \n",
       "2015-02-05  373.890015  315.859500  29.801789  375.463078  256.255923   \n",
       "\n",
       "            Sinal_inf   Sinal_sup  \n",
       "Date                               \n",
       "2015-01-30        NaN  358.075299  \n",
       "2015-02-02        NaN  368.114701  \n",
       "2015-02-03        NaN  367.185488  \n",
       "2015-02-04        NaN         NaN  \n",
       "2015-02-05        NaN         NaN  "
      ],
      "text/html": "<div>\n<style scoped>\n    .dataframe tbody tr th:only-of-type {\n        vertical-align: middle;\n    }\n\n    .dataframe tbody tr th {\n        vertical-align: top;\n    }\n\n    .dataframe thead th {\n        text-align: right;\n    }\n</style>\n<table border=\"1\" class=\"dataframe\">\n  <thead>\n    <tr style=\"text-align: right;\">\n      <th></th>\n      <th>High</th>\n      <th>Low</th>\n      <th>Open</th>\n      <th>Close</th>\n      <th>Volume</th>\n      <th>Adj Close</th>\n      <th>MM</th>\n      <th>desvio</th>\n      <th>Banda_sup</th>\n      <th>Banda_inf</th>\n      <th>Sinal_inf</th>\n      <th>Sinal_sup</th>\n    </tr>\n    <tr>\n      <th>Date</th>\n      <th></th>\n      <th></th>\n      <th></th>\n      <th></th>\n      <th></th>\n      <th></th>\n      <th></th>\n      <th></th>\n      <th></th>\n      <th></th>\n      <th></th>\n      <th></th>\n    </tr>\n  </thead>\n  <tbody>\n    <tr>\n      <th>2015-01-30</th>\n      <td>359.500000</td>\n      <td>340.739990</td>\n      <td>346.320007</td>\n      <td>354.529999</td>\n      <td>23856100</td>\n      <td>354.529999</td>\n      <td>302.747501</td>\n      <td>14.525972</td>\n      <td>331.799444</td>\n      <td>273.695557</td>\n      <td>NaN</td>\n      <td>358.075299</td>\n    </tr>\n    <tr>\n      <th>2015-02-02</th>\n      <td>365.000000</td>\n      <td>350.010010</td>\n      <td>350.049988</td>\n      <td>364.470001</td>\n      <td>10231900</td>\n      <td>364.470001</td>\n      <td>305.545001</td>\n      <td>20.037988</td>\n      <td>345.620978</td>\n      <td>265.469025</td>\n      <td>NaN</td>\n      <td>368.114701</td>\n    </tr>\n    <tr>\n      <th>2015-02-03</th>\n      <td>367.820007</td>\n      <td>360.209991</td>\n      <td>360.290009</td>\n      <td>363.549988</td>\n      <td>6212600</td>\n      <td>363.549988</td>\n      <td>308.613000</td>\n      <td>23.834924</td>\n      <td>356.282849</td>\n      <td>260.943152</td>\n      <td>NaN</td>\n      <td>367.185488</td>\n    </tr>\n    <tr>\n      <th>2015-02-04</th>\n      <td>367.500000</td>\n      <td>358.230011</td>\n      <td>358.380005</td>\n      <td>364.750000</td>\n      <td>4169900</td>\n      <td>364.750000</td>\n      <td>312.086000</td>\n      <td>26.681942</td>\n      <td>365.449884</td>\n      <td>258.722116</td>\n      <td>NaN</td>\n      <td>NaN</td>\n    </tr>\n    <tr>\n      <th>2015-02-05</th>\n      <td>378.799988</td>\n      <td>365.899994</td>\n      <td>366.000000</td>\n      <td>373.890015</td>\n      <td>7247600</td>\n      <td>373.890015</td>\n      <td>315.859500</td>\n      <td>29.801789</td>\n      <td>375.463078</td>\n      <td>256.255923</td>\n      <td>NaN</td>\n      <td>NaN</td>\n    </tr>\n  </tbody>\n</table>\n</div>"
     },
     "metadata": {},
     "execution_count": 3
    }
   ],
   "source": [
    "ticker = 'AMZN'\n",
    "inicio = \"2015-01-01\"\n",
    "fim  = \"2021-06-17\"\n",
    "cria_bb( ticker, inicio, fim )"
   ]
  },
  {
   "cell_type": "code",
   "execution_count": null,
   "metadata": {},
   "outputs": [],
   "source": []
  }
 ]
}